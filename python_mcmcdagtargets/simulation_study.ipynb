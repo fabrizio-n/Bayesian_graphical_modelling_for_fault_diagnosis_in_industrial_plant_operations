{
 "cells": [
  {
   "cell_type": "markdown",
   "metadata": {},
   "source": [
    "# Simulation study\n",
    "## Learning Graph Structure Under Uncertain Interventions"
   ]
  },
  {
   "cell_type": "markdown",
   "metadata": {},
   "source": [
    "### Import libraries"
   ]
  },
  {
   "cell_type": "code",
   "execution_count": 1,
   "metadata": {},
   "outputs": [],
   "source": [
    "############################################\n",
    "##      Requires: NumPy, SciPy, tqdm      ##\n",
    "############################################\n",
    "from mcmcdagtargets import MCMCDagTargets\n",
    "\n",
    "import numpy as np \n",
    "import pandas as pd\n",
    "import seaborn as sns\n",
    "import matplotlib.pyplot as plt\n",
    "import networkx as nx\n",
    "import pickle\n",
    "import multiprocessing as mp\n",
    "from IPython.display import clear_output"
   ]
  },
  {
   "cell_type": "markdown",
   "metadata": {},
   "source": [
    "### Run simulations"
   ]
  },
  {
   "cell_type": "code",
   "execution_count": 2,
   "metadata": {},
   "outputs": [],
   "source": [
    "workers = mp.cpu_count()\n",
    "sim_runs = workers * 10\n",
    "\n",
    "start = 0\n",
    "end = sim_runs\n",
    "range_length = (end - start) / workers\n",
    "\n",
    "subranges = [(start + i * range_length, start + (i + 1) * range_length) for i in range(workers)]\n",
    "\n",
    "# Create ranges from the tuples\n",
    "ranges = [range(int(start), int(end)) for start, end in subranges]"
   ]
  },
  {
   "cell_type": "code",
   "execution_count": null,
   "metadata": {},
   "outputs": [],
   "source": [
    "# Remove comments to run simulations\n",
    "\n",
    "#from simulation import simulate\n",
    "#with mp.Pool(processes = workers) as pool:\n",
    "#    results = pool.map(simulate, ranges)\n",
    "#    \n",
    "#\n",
    "#with open('sim_results.pkl', 'wb') as file:\n",
    "#    pickle.dump(results, file)"
   ]
  },
  {
   "cell_type": "code",
   "execution_count": 3,
   "metadata": {},
   "outputs": [],
   "source": [
    "with open('sim_results.pkl', 'rb') as file:\n",
    "    sim_results = pickle.load(file)\n",
    "\n",
    "def merge_par_sim(inp_dict:dict, arg:str):\n",
    "    out_dict = {}\n",
    "    for d in inp_dict:\n",
    "        for key, value in d[arg].items():\n",
    "            if key in out_dict:\n",
    "                out_dict[key] += value\n",
    "            else:\n",
    "                out_dict[key] = value\n",
    "    return out_dict\n",
    "   \n",
    "                \n",
    "tot_shd_results = merge_par_sim(sim_results, 'shd')        \n",
    "tot_sim_results = merge_par_sim(sim_results, 'sim_results')\n",
    "tot_fpr_results = merge_par_sim(sim_results, 'fpr')\n",
    "tot_fnr_results = merge_par_sim(sim_results, 'fnr')"
   ]
  },
  {
   "cell_type": "code",
   "execution_count": 47,
   "metadata": {},
   "outputs": [
    {
     "data": {
      "image/png": "[encoded data removed]",
      "text/plain": [
       "<Figure size 800x400 with 1 Axes>"
      ]
     },
     "metadata": {},
     "output_type": "display_data"
    }
   ],
   "source": [
    "plt.figure(figsize=(8, 4))\n",
    "\n",
    "sns.set(style=\"whitegrid\")\n",
    "medianprops = {'color': 'red', 'linestyle': '-'}\n",
    "sns.boxplot(data=pd.DataFrame(tot_shd_results), orient=\"v\", palette=\"Blues\", medianprops=medianprops)\n",
    "\n",
    "# Add customizations\n",
    "#plt.title(\"Structural Hamming Distance of estimated DAGs from True DAG\")\n",
    "plt.ylabel(\"SHD\")\n",
    "plt.rcParams['text.usetex'] = True\n",
    "plt.xlabel(r'$n^{(k)}$')\n",
    "\n",
    "# Display the plot\n",
    "plt.savefig('output/simulation/shd_boxplots.png')\n",
    "plt.show()"
   ]
  },
  {
   "cell_type": "code",
   "execution_count": 46,
   "metadata": {},
   "outputs": [
    {
     "data": {
      "image/png": "[encoded data removed]",
      "text/plain": [
       "<Figure size 800x400 with 2 Axes>"
      ]
     },
     "metadata": {},
     "output_type": "display_data"
    }
   ],
   "source": [
    "# Create a 2x1 grid of subplots\n",
    "fig, axes = plt.subplots(2, 1, figsize=(8, 4))\n",
    "\n",
    "# Plot 1 - Box plot\n",
    "sns.set(style=\"whitegrid\")\n",
    "plt.rcParams['text.usetex'] = True\n",
    "palette = sns.color_palette(\"rocket\")\n",
    "medianprops = {'color': 'red', 'linestyle': '-'}\n",
    "sns.boxplot(data=pd.DataFrame(tot_fpr_results), orient=\"v\", palette=\"Blues\", ax=axes[0], medianprops=medianprops)\n",
    "\n",
    "# Add customizations to the first plot\n",
    "#axes[0].set_title(\"False Positive Rate of estimated Targets compared to true Targets\")\n",
    "axes[0].set_ylabel(\"FPR\")\n",
    "axes[0].set_xlabel(r'$n^{(k)}$')\n",
    "\n",
    "# Plot 2 - Another Box plot (you can customize this plot separately)\n",
    "sns.boxplot(data=pd.DataFrame(tot_fnr_results), orient=\"v\", palette=\"Blues\", ax=axes[1], medianprops=medianprops)\n",
    "\n",
    "# Add customizations to the second plot\n",
    "#axes[1].set_title(\"False Negative Rate of estimated Targets compared to true Targets\")\n",
    "axes[1].set_ylabel(\"FNR\")\n",
    "axes[1].set_xlabel(r'$n^{(k)}$')\n",
    "\n",
    "# Adjust layout\n",
    "plt.tight_layout()\n",
    "\n",
    "# Display the combined plot\n",
    "plt.savefig('output/simulation/fpr_fnr_boxplots.png')\n",
    "plt.show()\n"
   ]
  }
 ],
 "metadata": {
  "kernelspec": {
   "display_name": "tesipy",
   "language": "python",
   "name": "python3"
  },
  "language_info": {
   "codemirror_mode": {
    "name": "ipython",
    "version": 3
   },
   "file_extension": ".py",
   "mimetype": "text/x-python",
   "name": "python",
   "nbconvert_exporter": "python",
   "pygments_lexer": "ipython3",
   "version": "3.11.5"
  }
 },
 "nbformat": 4,
 "nbformat_minor": 2
}
